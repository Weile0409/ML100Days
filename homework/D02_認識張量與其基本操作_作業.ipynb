{
 "cells": [
  {
   "cell_type": "markdown",
   "metadata": {},
   "source": [
    "### 作業目的: 更加熟習pytorch的tensor操作\n",
    "\n",
    "pytorch中有提供很多的API，讓使用者針對tensor進行各式各樣的操作，本次的作業希望讀者由pytorch的[官方網站](https://pytorch.org/docs/stable/torch.html)中選定四個針對tensor操作的API，對他的使用方法進行範例操作演練。"
   ]
  },
  {
   "cell_type": "markdown",
   "metadata": {},
   "source": [
    "### 選定的API 函數\n",
    "\n",
    "**請寫下選定的API functions**\n",
    "\n",
    "ex:\n",
    "* torch.from_array() / tensor.numpy()\n",
    "* torch.unsqueeze() / torch.squeeze()\n",
    "* tensor.transpose() / tensor.permute()\n",
    "* torch.reshape() / tensor.view()"
   ]
  },
  {
   "cell_type": "code",
   "execution_count": 1,
   "metadata": {},
   "outputs": [],
   "source": [
    "# Import torch and other required modules\n",
    "import torch\n",
    "import numpy as np"
   ]
  },
  {
   "cell_type": "markdown",
   "metadata": {},
   "source": [
    "### 範例:\n",
    "### Function 1 - torch.from_array() / tensor.numpy()"
   ]
  },
  {
   "cell_type": "code",
   "execution_count": 2,
   "metadata": {},
   "outputs": [
    {
     "name": "stdout",
     "output_type": "stream",
     "text": [
      "a: <class 'numpy.ndarray'>, float64\n",
      "b: <class 'torch.Tensor'>, torch.float64\n",
      "c: <class 'torch.Tensor'>, torch.float64\n",
      "d: <class 'numpy.ndarray'>, float64\n"
     ]
    }
   ],
   "source": [
    "# Example 1 - 將torch tensor與numpy ndarray互相轉換\n",
    "a = np.random.rand(1,2,3,3)\n",
    "print(f'a: {type(a)}, {a.dtype}')\n",
    "b = torch.from_numpy(a)\n",
    "print(f'b: {type(b)}, {b.dtype}')\n",
    "c = torch.tensor(a)\n",
    "print(f'c: {type(c)}, {c.dtype}')\n",
    "d = c.numpy()\n",
    "print(f'd: {type(d)}, {d.dtype}')"
   ]
  },
  {
   "cell_type": "code",
   "execution_count": 3,
   "metadata": {},
   "outputs": [
    {
     "name": "stdout",
     "output_type": "stream",
     "text": [
      "a: <class 'numpy.ndarray'>, int32\n",
      "b: <class 'torch.Tensor'>, torch.int32\n",
      "c: <class 'torch.Tensor'>, torch.int32\n",
      "d: <class 'numpy.ndarray'>, int32\n"
     ]
    }
   ],
   "source": [
    "# Example 2 - 經過轉換後，torch tensor與numpy array依然有相近的資料型態\n",
    "a = np.random.randint(low=0, high=10, size=(2,2))\n",
    "print(f'a: {type(a)}, {a.dtype}')\n",
    "b = torch.from_numpy(a)\n",
    "print(f'b: {type(b)}, {b.dtype}')\n",
    "c = torch.tensor(a)\n",
    "print(f'c: {type(c)}, {c.dtype}')\n",
    "d = c.numpy()\n",
    "print(f'd: {type(d)}, {d.dtype}')"
   ]
  },
  {
   "cell_type": "markdown",
   "metadata": {},
   "source": [
    "### Function 1 - torch.unsqueeze() / torch.squeeze()"
   ]
  },
  {
   "cell_type": "code",
   "execution_count": 4,
   "metadata": {},
   "outputs": [
    {
     "name": "stdout",
     "output_type": "stream",
     "text": [
      "torch.Size([6, 3])\n",
      "tensor([[1., 1., 1.],\n",
      "        [1., 1., 1.],\n",
      "        [1., 1., 1.],\n",
      "        [1., 1., 1.],\n",
      "        [1., 1., 1.],\n",
      "        [1., 1., 1.]])\n",
      "torch.Size([6, 3, 1])\n",
      "tensor([[[1.],\n",
      "         [1.],\n",
      "         [1.]],\n",
      "\n",
      "        [[1.],\n",
      "         [1.],\n",
      "         [1.]],\n",
      "\n",
      "        [[1.],\n",
      "         [1.],\n",
      "         [1.]],\n",
      "\n",
      "        [[1.],\n",
      "         [1.],\n",
      "         [1.]],\n",
      "\n",
      "        [[1.],\n",
      "         [1.],\n",
      "         [1.]],\n",
      "\n",
      "        [[1.],\n",
      "         [1.],\n",
      "         [1.]]])\n"
     ]
    }
   ],
   "source": [
    "# Example 1 - Unsqueeze the tensor\n",
    "t = torch.ones((6,3))\n",
    "u = torch.unsqueeze(t,dim=2)\n",
    "print(t.shape)\n",
    "print(t)\n",
    "print(u.shape)\n",
    "print(u)\n"
   ]
  },
  {
   "cell_type": "code",
   "execution_count": 5,
   "metadata": {},
   "outputs": [
    {
     "name": "stdout",
     "output_type": "stream",
     "text": [
      "torch.Size([2, 1, 3, 1])\n",
      "tensor([[[[1.],\n",
      "          [1.],\n",
      "          [1.]]],\n",
      "\n",
      "\n",
      "        [[[1.],\n",
      "          [1.],\n",
      "          [1.]]]])\n",
      "torch.Size([2, 3])\n",
      "tensor([[1., 1., 1.],\n",
      "        [1., 1., 1.]])\n"
     ]
    }
   ],
   "source": [
    "# Example 2 - Squeeze the tensor\n",
    "t = torch.ones((2,1,3,1))\n",
    "v = torch.squeeze(t)\n",
    "print(t.shape)\n",
    "print(t)\n",
    "print(v.shape)\n",
    "print(v)"
   ]
  },
  {
   "cell_type": "markdown",
   "metadata": {},
   "source": [
    "### Function 2 - Fill diagonal"
   ]
  },
  {
   "cell_type": "code",
   "execution_count": 6,
   "metadata": {},
   "outputs": [
    {
     "name": "stdout",
     "output_type": "stream",
     "text": [
      "tensor([[0., 0., 0.],\n",
      "        [0., 0., 0.],\n",
      "        [0., 0., 0.],\n",
      "        [0., 0., 0.],\n",
      "        [0., 0., 0.],\n",
      "        [0., 0., 0.]])\n",
      "tensor([[5., 0., 0.],\n",
      "        [0., 5., 0.],\n",
      "        [0., 0., 5.],\n",
      "        [0., 0., 0.],\n",
      "        [0., 0., 0.],\n",
      "        [0., 0., 0.]])\n"
     ]
    }
   ],
   "source": [
    "# Example 1 - Fill diagonal of a tensor\n",
    "t = torch.zeros((6,3))\n",
    "print(t)\n",
    "print(t.fill_diagonal_(5))"
   ]
  },
  {
   "cell_type": "code",
   "execution_count": 7,
   "metadata": {},
   "outputs": [
    {
     "name": "stdout",
     "output_type": "stream",
     "text": [
      "tensor([[5., 0., 0.],\n",
      "        [0., 5., 0.],\n",
      "        [0., 0., 5.],\n",
      "        [0., 0., 0.],\n",
      "        [5., 0., 0.],\n",
      "        [0., 5., 0.]])\n"
     ]
    }
   ],
   "source": [
    "# Example 2 - Fill diagonal of a tensor with wrapping\n",
    "print(t.fill_diagonal_(5,wrap=True))"
   ]
  },
  {
   "cell_type": "markdown",
   "metadata": {},
   "source": [
    "### Function 3 - torch.reshape() / tensor.view()"
   ]
  },
  {
   "cell_type": "code",
   "execution_count": 8,
   "metadata": {},
   "outputs": [
    {
     "name": "stdout",
     "output_type": "stream",
     "text": [
      "Shape of t : torch.Size([2, 3, 4])\n",
      "torch.Size([6, 4]) torch.Size([6, 4])\n",
      "tensor([[ 1,  2,  3,  4],\n",
      "        [ 5,  6,  7,  8],\n",
      "        [ 9, 10, 11, 12],\n",
      "        [ 2,  3,  4,  5],\n",
      "        [ 6,  7,  8,  9],\n",
      "        [ 8,  9, 10, 11]]) \n",
      " tensor([[ 1,  2,  3,  4],\n",
      "        [ 5,  6,  7,  8],\n",
      "        [ 9, 10, 11, 12],\n",
      "        [ 2,  3,  4,  5],\n",
      "        [ 6,  7,  8,  9],\n",
      "        [ 8,  9, 10, 11]])\n"
     ]
    }
   ],
   "source": [
    "# Example 1 - Change the shape of tensor\n",
    "t = torch.tensor([[[1,2,3,4],[5,6,7,8],[9,10,11,12]],\n",
    "                  [[2,3,4,5],[6,7,8,9],[8,9,10,11]]])\n",
    "print(f'Shape of t : {t.shape}')\n",
    "t1 = t.reshape(6,4)\n",
    "t2 = t.view(6,4)\n",
    "print(t1.shape,t2.shape)\n",
    "print(t1,'\\n',t2)"
   ]
  },
  {
   "cell_type": "code",
   "execution_count": 9,
   "metadata": {},
   "outputs": [
    {
     "name": "stdout",
     "output_type": "stream",
     "text": [
      "Shape of a : torch.Size([2, 3, 4])\n",
      "Shape of a1 : torch.Size([6, 4])\n"
     ]
    },
    {
     "data": {
      "text/plain": [
       "tensor([[ 2,  3,  4,  5],\n",
       "        [ 6,  7,  8,  9],\n",
       "        [10, 11, 12, 13],\n",
       "        [ 3,  4,  5,  6],\n",
       "        [ 7,  8,  9, 10],\n",
       "        [ 9, 10, 11, 12]])"
      ]
     },
     "execution_count": 9,
     "metadata": {},
     "output_type": "execute_result"
    }
   ],
   "source": [
    "# Example 2 - Change the shape of tensor then addition\n",
    "a = torch.ones_like(t)\n",
    "print(f'Shape of a : {a.shape}')\n",
    "a1 = a.reshape(6,4)\n",
    "print(f'Shape of a1 : {a1.shape}')\n",
    "a1 + t1"
   ]
  },
  {
   "cell_type": "markdown",
   "metadata": {},
   "source": [
    "### Function 4 - tensor.transpose() / tensor.permute()"
   ]
  },
  {
   "cell_type": "code",
   "execution_count": 10,
   "metadata": {},
   "outputs": [
    {
     "name": "stdout",
     "output_type": "stream",
     "text": [
      "torch.Size([2, 3, 4])\n",
      "tensor([[[ 1,  2,  3,  4],\n",
      "         [ 5,  6,  7,  8],\n",
      "         [ 9, 10, 11, 12]],\n",
      "\n",
      "        [[ 2,  3,  4,  5],\n",
      "         [ 6,  7,  8,  9],\n",
      "         [ 8,  9, 10, 11]]])\n",
      "torch.Size([3, 2, 4]) torch.Size([3, 2, 4])\n",
      "tensor([[[ 1,  2,  3,  4],\n",
      "         [ 2,  3,  4,  5]],\n",
      "\n",
      "        [[ 5,  6,  7,  8],\n",
      "         [ 6,  7,  8,  9]],\n",
      "\n",
      "        [[ 9, 10, 11, 12],\n",
      "         [ 8,  9, 10, 11]]]) \n",
      " tensor([[[ 1,  2,  3,  4],\n",
      "         [ 2,  3,  4,  5]],\n",
      "\n",
      "        [[ 5,  6,  7,  8],\n",
      "         [ 6,  7,  8,  9]],\n",
      "\n",
      "        [[ 9, 10, 11, 12],\n",
      "         [ 8,  9, 10, 11]]])\n"
     ]
    }
   ],
   "source": [
    "# Example 1 - Exchange the dimension of a tensor\n",
    "t = torch.tensor([[[1,2,3,4],[5,6,7,8],[9,10,11,12]],\n",
    "                  [[2,3,4,5],[6,7,8,9],[8,9,10,11]]])\n",
    "print(t.shape)\n",
    "print(t)\n",
    "\n",
    "t1 = t.transpose(0,1)\n",
    "t2 = t.permute((1,0,2))\n",
    "print(t1.shape,t2.shape)\n",
    "print(t1,'\\n',t2)"
   ]
  },
  {
   "cell_type": "code",
   "execution_count": 11,
   "metadata": {},
   "outputs": [
    {
     "name": "stdout",
     "output_type": "stream",
     "text": [
      "Shape a: torch.Size([3])\n",
      "Shape t: torch.Size([2, 3, 4])\n",
      "transpose t and do matrix multiplication with a:\n",
      "tensor([[[ 1,  5,  9],\n",
      "         [ 2,  6, 10],\n",
      "         [ 3,  7, 11],\n",
      "         [ 4,  8, 12]],\n",
      "\n",
      "        [[ 2,  6,  8],\n",
      "         [ 3,  7,  9],\n",
      "         [ 4,  8, 10],\n",
      "         [ 5,  9, 11]]])\n",
      "Shape t3: torch.Size([2, 4, 3])\n",
      "Shape t3@a : torch.Size([2, 4])\n"
     ]
    },
    {
     "data": {
      "text/plain": [
       "tensor([[15, 18, 21, 24],\n",
       "        [16, 19, 22, 25]])"
      ]
     },
     "execution_count": 11,
     "metadata": {},
     "output_type": "execute_result"
    }
   ],
   "source": [
    "# Example 2 - matrix multiplication\n",
    "a = torch.tensor([1,1,1])\n",
    "print('Shape a:',a.shape)\n",
    "print('Shape t:',t.shape)\n",
    "print('transpose t and do matrix multiplication with a:')\n",
    "t3 = t.transpose(1,2)\n",
    "print(t3)\n",
    "print('Shape t3:',t3.shape)\n",
    "print('Shape t3@a :',(t3@a).shape)\n",
    "t3@a"
   ]
  },
  {
   "cell_type": "code",
   "execution_count": null,
   "metadata": {},
   "outputs": [],
   "source": []
  }
 ],
 "metadata": {
  "kernelspec": {
   "display_name": "Python 3",
   "language": "python",
   "name": "python3"
  },
  "language_info": {
   "codemirror_mode": {
    "name": "ipython",
    "version": 3
   },
   "file_extension": ".py",
   "mimetype": "text/x-python",
   "name": "python",
   "nbconvert_exporter": "python",
   "pygments_lexer": "ipython3",
   "version": "3.7.6"
  }
 },
 "nbformat": 4,
 "nbformat_minor": 2
}
